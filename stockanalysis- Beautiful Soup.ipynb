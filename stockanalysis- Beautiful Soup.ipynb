{
 "cells": [
  {
   "cell_type": "markdown",
   "metadata": {},
   "source": [
    "Notebook, dataset for ML model.\n",
    "demostration and learning only!"
   ]
  },
  {
   "cell_type": "code",
   "execution_count": null,
   "metadata": {},
   "outputs": [],
   "source": [
    "!pip install beautifulsoup4"
   ]
  },
  {
   "cell_type": "markdown",
   "metadata": {},
   "source": [
    "## python import libraries\n",
    "Note: pandas core method(read_html) gives authorization error , so requests and bs"
   ]
  },
  {
   "cell_type": "code",
   "execution_count": 1,
   "metadata": {},
   "outputs": [],
   "source": [
    "import requests as req\n",
    "from bs4 import BeautifulSoup\n",
    "import pandas as pd"
   ]
  },
  {
   "cell_type": "code",
   "execution_count": 2,
   "metadata": {},
   "outputs": [],
   "source": [
    "page_url= 'https://stockanalysis.com/ipos/2020-list/'\n",
    "page_request = req.get(page_url, timeout=1)"
   ]
  },
  {
   "cell_type": "code",
   "execution_count": 3,
   "metadata": {},
   "outputs": [],
   "source": [
    "page_html = BeautifulSoup(page_request.content, \"html.parser\")"
   ]
  },
  {
   "cell_type": "code",
   "execution_count": 4,
   "metadata": {},
   "outputs": [],
   "source": [
    "table = page_html.find('table').find_all('tr')"
   ]
  },
  {
   "cell_type": "code",
   "execution_count": 5,
   "metadata": {},
   "outputs": [],
   "source": [
    "count=0\n",
    "IPOs=[]\n",
    "for each_row in table:\n",
    "    row_fields=each_row.find_all('td')\n",
    "    row_as_list=[each_field.text for each_field in row_fields]\n",
    "    del row_as_list[-2:]\n",
    "    if len(row_as_list) > 0:\n",
    "        IPOs.append(row_as_list)"
   ]
  },
  {
   "cell_type": "code",
   "execution_count": 6,
   "metadata": {},
   "outputs": [],
   "source": [
    "df=pd.DataFrame(IPOs,columns=['IPO Date','Symbol','Name','IPO Price'])"
   ]
  },
  {
   "cell_type": "code",
   "execution_count": 7,
   "metadata": {},
   "outputs": [
    {
     "data": {
      "text/html": [
       "<div>\n",
       "<style scoped>\n",
       "    .dataframe tbody tr th:only-of-type {\n",
       "        vertical-align: middle;\n",
       "    }\n",
       "\n",
       "    .dataframe tbody tr th {\n",
       "        vertical-align: top;\n",
       "    }\n",
       "\n",
       "    .dataframe thead th {\n",
       "        text-align: right;\n",
       "    }\n",
       "</style>\n",
       "<table border=\"1\" class=\"dataframe\">\n",
       "  <thead>\n",
       "    <tr style=\"text-align: right;\">\n",
       "      <th></th>\n",
       "      <th>IPO Date</th>\n",
       "      <th>Symbol</th>\n",
       "      <th>Name</th>\n",
       "      <th>IPO Price</th>\n",
       "    </tr>\n",
       "  </thead>\n",
       "  <tbody>\n",
       "    <tr>\n",
       "      <th>0</th>\n",
       "      <td>Dec 29, 2020</td>\n",
       "      <td>MRM</td>\n",
       "      <td>Medirom Healthcare</td>\n",
       "      <td>$15.00</td>\n",
       "    </tr>\n",
       "    <tr>\n",
       "      <th>1</th>\n",
       "      <td>Dec 24, 2020</td>\n",
       "      <td>VTAQ</td>\n",
       "      <td>Ventoux CCM Acquisition</td>\n",
       "      <td>$10.00</td>\n",
       "    </tr>\n",
       "    <tr>\n",
       "      <th>2</th>\n",
       "      <td>Dec 23, 2020</td>\n",
       "      <td>VII</td>\n",
       "      <td>7GC &amp; Co. Holdings</td>\n",
       "      <td>$10.00</td>\n",
       "    </tr>\n",
       "    <tr>\n",
       "      <th>3</th>\n",
       "      <td>Dec 23, 2020</td>\n",
       "      <td>CFIV</td>\n",
       "      <td>CF Acquisition IV</td>\n",
       "      <td>$10.00</td>\n",
       "    </tr>\n",
       "    <tr>\n",
       "      <th>4</th>\n",
       "      <td>Dec 23, 2020</td>\n",
       "      <td>VHAQ</td>\n",
       "      <td>Viveon Health Acquisition</td>\n",
       "      <td>$10.00</td>\n",
       "    </tr>\n",
       "    <tr>\n",
       "      <th>5</th>\n",
       "      <td>Dec 23, 2020</td>\n",
       "      <td>HCAR</td>\n",
       "      <td>Healthcare Services Acquisition</td>\n",
       "      <td>$10.00</td>\n",
       "    </tr>\n",
       "    <tr>\n",
       "      <th>6</th>\n",
       "      <td>Dec 23, 2020</td>\n",
       "      <td>IKT</td>\n",
       "      <td>Inhibikase Therapeutics</td>\n",
       "      <td>$10.00</td>\n",
       "    </tr>\n",
       "    <tr>\n",
       "      <th>7</th>\n",
       "      <td>Dec 23, 2020</td>\n",
       "      <td>GBS</td>\n",
       "      <td>GBS, Inc.</td>\n",
       "      <td>$17.00</td>\n",
       "    </tr>\n",
       "    <tr>\n",
       "      <th>8</th>\n",
       "      <td>Dec 21, 2020</td>\n",
       "      <td>ACKIT</td>\n",
       "      <td>Ackrell SPAC Partners I</td>\n",
       "      <td>$10.00</td>\n",
       "    </tr>\n",
       "    <tr>\n",
       "      <th>9</th>\n",
       "      <td>Dec 18, 2020</td>\n",
       "      <td>GFX</td>\n",
       "      <td>Golden Falcon Acquisition</td>\n",
       "      <td>$10.00</td>\n",
       "    </tr>\n",
       "  </tbody>\n",
       "</table>\n",
       "</div>"
      ],
      "text/plain": [
       "       IPO Date Symbol                             Name IPO Price\n",
       "0  Dec 29, 2020    MRM               Medirom Healthcare    $15.00\n",
       "1  Dec 24, 2020   VTAQ          Ventoux CCM Acquisition    $10.00\n",
       "2  Dec 23, 2020    VII               7GC & Co. Holdings    $10.00\n",
       "3  Dec 23, 2020   CFIV                CF Acquisition IV    $10.00\n",
       "4  Dec 23, 2020   VHAQ        Viveon Health Acquisition    $10.00\n",
       "5  Dec 23, 2020   HCAR  Healthcare Services Acquisition    $10.00\n",
       "6  Dec 23, 2020    IKT          Inhibikase Therapeutics    $10.00\n",
       "7  Dec 23, 2020    GBS                        GBS, Inc.    $17.00\n",
       "8  Dec 21, 2020  ACKIT          Ackrell SPAC Partners I    $10.00\n",
       "9  Dec 18, 2020    GFX        Golden Falcon Acquisition    $10.00"
      ]
     },
     "execution_count": 7,
     "metadata": {},
     "output_type": "execute_result"
    }
   ],
   "source": [
    "df.head(10)"
   ]
  },
  {
   "cell_type": "code",
   "execution_count": 8,
   "metadata": {},
   "outputs": [
    {
     "data": {
      "text/plain": [
       "(480, 4)"
      ]
     },
     "execution_count": 8,
     "metadata": {},
     "output_type": "execute_result"
    }
   ],
   "source": [
    "df.shape"
   ]
  }
 ],
 "metadata": {
  "kernelspec": {
   "display_name": "Python 3",
   "language": "python",
   "name": "python3"
  },
  "language_info": {
   "codemirror_mode": {
    "name": "ipython",
    "version": 3
   },
   "file_extension": ".py",
   "mimetype": "text/x-python",
   "name": "python",
   "nbconvert_exporter": "python",
   "pygments_lexer": "ipython3",
   "version": "3.8.3"
  }
 },
 "nbformat": 4,
 "nbformat_minor": 4
}

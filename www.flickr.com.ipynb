{
 "cells": [
  {
   "cell_type": "markdown",
   "metadata": {},
   "source": [
    "## Download images from flickr\n",
    "Selenium to render the pages where requests could not!"
   ]
  },
  {
   "cell_type": "code",
   "execution_count": 1,
   "metadata": {},
   "outputs": [],
   "source": [
    "from bs4 import BeautifulSoup\n",
    "import requests \n",
    "import selenium\n",
    "import time\n",
    "from selenium import webdriver\n",
    "import os\n",
    "\n",
    "# for handling threads\n",
    "import concurrent.futures"
   ]
  },
  {
   "cell_type": "code",
   "execution_count": 2,
   "metadata": {},
   "outputs": [],
   "source": [
    "# Site runs JS so selenium to render the Javascript\n",
    "driver = webdriver.Firefox()"
   ]
  },
  {
   "cell_type": "code",
   "execution_count": 3,
   "metadata": {},
   "outputs": [],
   "source": [
    "base_url='https://www.flickr.com'\n",
    "page_url_mask='https://www.flickr.com/photos/nasacommons/page'\n",
    "\n",
    "cwd=os.getcwd()\n",
    "data_folder=os.path.join(cwd,\"Images\")\n",
    "if not os.path.exists(data_folder):\n",
    "    os.makedirs(data_folder)"
   ]
  },
  {
   "cell_type": "code",
   "execution_count": 4,
   "metadata": {},
   "outputs": [],
   "source": [
    "headers = {\n",
    "    \"Connection\": \"keep-alive\",\n",
    "    \"User-Agent\": \"Mozilla/5.0 (Macintosh; Intel Mac OS X 10.15; rv:91.0) Gecko/20100101 Firefox/91.0\"\n",
    "}\n",
    "def download_image(img_url):\n",
    "    #print(img_url)\n",
    "    img_url=img_url+'sizes/l/'\n",
    "    try:\n",
    "        res=requests.get(img_url,allow_redirects = True,headers=headers)\n",
    "        s1=BeautifulSoup(res.text)\n",
    "        mya = s1.find_all(\"a\")\n",
    "        for e in mya:\n",
    "            if 'Download' in e.text:\n",
    "                img_url=e['href']\n",
    "                img_name=e['href'].split(\"/\")[-1]\n",
    "                break\n",
    "        img_bytes= requests.get(img_url).content\n",
    "        with open(os.path.join(data_folder,img_name),\"wb\") as img_file:\n",
    "            img_file.write(img_bytes)\n",
    "            #print(f'file {img_name} downloaded..')\n",
    "    except Exception as e:\n",
    "        print(e)"
   ]
  },
  {
   "cell_type": "code",
   "execution_count": 5,
   "metadata": {},
   "outputs": [],
   "source": [
    "LAST_PAGE=34\n",
    "for page_no in range(1,LAST_PAGE+1):\n",
    "    page_url=page_url_mask+str(page_no)\n",
    "    driver.get(page_url)\n",
    "    time.sleep(4)\n",
    "    soup=BeautifulSoup(driver.page_source)\n",
    "    images=soup.find_all(\"a\", {\"class\": \"overlay\"})\n",
    "    images_on_a_page=[]\n",
    "    for each in images:\n",
    "        images_on_a_page.append(base_url+each['href'])    \n",
    "        \n",
    "    with concurrent.futures.ThreadPoolExecutor() as executor:\n",
    "        executor.map(download_image,images_on_a_page)\n",
    "    \n",
    "    #break\n",
    "    "
   ]
  },
  {
   "cell_type": "code",
   "execution_count": 7,
   "metadata": {},
   "outputs": [
    {
     "data": {
      "text/plain": [
       "<bound method WebDriver.close of <selenium.webdriver.firefox.webdriver.WebDriver (session=\"97920b42-0703-914b-bc8f-74c67d38cb7e\")>>"
      ]
     },
     "execution_count": 7,
     "metadata": {},
     "output_type": "execute_result"
    }
   ],
   "source": [
    "driver.close()"
   ]
  },
  {
   "cell_type": "code",
   "execution_count": 8,
   "metadata": {},
   "outputs": [],
   "source": [
    "headers = {\n",
    "    \"Connection\": \"keep-alive\",\n",
    "    \"User-Agent\": \"Mozilla/5.0 (Windows NT 10.0; Win64; x64) AppleWebKit/537.36 (KHTML, like Gecko) Chrome/72.0.3626.121 Safari/537.36\"\n",
    "}"
   ]
  },
  {
   "cell_type": "code",
   "execution_count": 9,
   "metadata": {},
   "outputs": [],
   "source": [
    "res1=requests.get('https://www.flickr.com/photos/nasacommons/',allow_redirects = True,headers=headers)"
   ]
  },
  {
   "cell_type": "code",
   "execution_count": 10,
   "metadata": {},
   "outputs": [],
   "source": [
    "s1=BeautifulSoup(res1.text)"
   ]
  },
  {
   "cell_type": "code",
   "execution_count": 42,
   "metadata": {},
   "outputs": [],
   "source": [
    "import re\n",
    "mya = s1.find_all(\"a\",attrs={'data-track': re.compile('pagination[0-9]+')})"
   ]
  },
  {
   "cell_type": "code",
   "execution_count": 47,
   "metadata": {},
   "outputs": [
    {
     "name": "stdout",
     "output_type": "stream",
     "text": [
      "Last page in page counter is 34\n"
     ]
    }
   ],
   "source": [
    "LAST_PAGE=1\n",
    "for each_pagination in mya:\n",
    "    if int(each_pagination.text) >= LAST_PAGE:\n",
    "        LAST_PAGE=int(each_pagination.text)\n",
    "print(f\"Last page in page counter is {LAST_PAGE}\")"
   ]
  },
  {
   "cell_type": "code",
   "execution_count": 54,
   "metadata": {},
   "outputs": [],
   "source": [
    "with open(\"test.html\",\"w\") as file:\n",
    "    file.write(res.text)"
   ]
  }
 ],
 "metadata": {
  "kernelspec": {
   "display_name": "Python 3",
   "language": "python",
   "name": "python3"
  },
  "language_info": {
   "codemirror_mode": {
    "name": "ipython",
    "version": 3
   },
   "file_extension": ".py",
   "mimetype": "text/x-python",
   "name": "python",
   "nbconvert_exporter": "python",
   "pygments_lexer": "ipython3",
   "version": "3.8.3"
  }
 },
 "nbformat": 4,
 "nbformat_minor": 4
}

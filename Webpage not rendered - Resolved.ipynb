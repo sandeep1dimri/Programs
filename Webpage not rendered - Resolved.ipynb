{
 "cells": [
  {
   "cell_type": "code",
   "execution_count": 1,
   "metadata": {},
   "outputs": [],
   "source": [
    "import os\n",
    "from datetime import datetime\n",
    "from selenium import webdriver\n",
    "import urllib\n",
    "#from xvfbwrapper import Xvfb\n",
    "import http.server\n",
    "import socketserver\n",
    "from threading import Thread\n",
    "import time\n",
    "import zipfile\n",
    "from selenium.webdriver.common.action_chains import ActionChains\n",
    "from selenium.webdriver.common.keys import Keys"
   ]
  },
  {
   "cell_type": "code",
   "execution_count": 3,
   "metadata": {},
   "outputs": [],
   "source": [
    "########################################\n",
    "PROXY_HOST = ''  # rotating proxy or host\n",
    "PROXY_PORT = 31112 # port\n",
    "PROXY_USER = '' # username\n",
    "PROXY_PASS = '' # password\n",
    "################################"
   ]
  },
  {
   "cell_type": "code",
   "execution_count": 29,
   "metadata": {},
   "outputs": [],
   "source": [
    "manifest_json = \"\"\"\n",
    "{\n",
    "    \"version\": \"1.0.0\",\n",
    "    \"manifest_version\": 2,\n",
    "    \"name\": \"Chrome Proxy\",\n",
    "    \"permissions\": [\n",
    "        \"proxy\",\n",
    "        \"tabs\",\n",
    "        \"unlimitedStorage\",\n",
    "        \"storage\",\n",
    "        \"<all_urls>\",\n",
    "        \"webRequest\",\n",
    "        \"webRequestBlocking\"\n",
    "    ],\n",
    "    \"background\": {\n",
    "        \"scripts\": [\"background.js\"]\n",
    "    },\n",
    "    \"minimum_chrome_version\":\"22.0.0\"\n",
    "}\n",
    "\"\"\"\n",
    "\n",
    "background_js = \"\"\"\n",
    "var config = {\n",
    "        mode: \"fixed_servers\",\n",
    "        rules: {\n",
    "        singleProxy: {\n",
    "            scheme: \"http\",\n",
    "            host: \"%s\",\n",
    "            port: parseInt(%s)\n",
    "        },\n",
    "        bypassList: [\"localhost\"]\n",
    "        }\n",
    "    };\n",
    "\n",
    "chrome.proxy.settings.set({value: config, scope: \"regular\"}, function() {});\n",
    "\n",
    "function callbackFn(details) {\n",
    "    return {\n",
    "        authCredentials: {\n",
    "            username: \"%s\",\n",
    "            password: \"%s\"\n",
    "        }\n",
    "    };\n",
    "}\n",
    "\n",
    "chrome.webRequest.onAuthRequired.addListener(\n",
    "            callbackFn,\n",
    "            {urls: [\"<all_urls>\"]},\n",
    "            ['blocking']\n",
    ");\n",
    "\"\"\" % (PROXY_HOST, PROXY_PORT, PROXY_USER, PROXY_PASS)\n",
    "\n",
    "\n",
    "prefs = {\n",
    "    'profile.default_content_setting_values': {\n",
    "        #'cookies': 2, #'images': 2,\n",
    "        'plugins': 2, 'popups': 2, 'geolocation': 2,\n",
    "        'notifications': 2, 'auto_select_certificate': 2, 'fullscreen': 2,\n",
    "        'mouselock': 2, 'mixed_script': 2, 'media_stream': 2,\n",
    "        'media_stream_mic': 2, 'media_stream_camera': 2,\n",
    "        'protocol_handlers': 2,\n",
    "        'ppapi_broker': 2, 'automatic_downloads': 2, 'midi_sysex': 2,\n",
    "        'push_messaging': 2, 'ssl_cert_decisions': 2,\n",
    "        'metro_switch_to_desktop': 2,\n",
    "        'protected_media_identifier': 2, 'app_banner': 2,\n",
    "        'site_engagement': 2,\n",
    "        'durable_storage': 2, 'favicon': 2\n",
    "    }\n",
    "}"
   ]
  },
  {
   "cell_type": "code",
   "execution_count": 30,
   "metadata": {},
   "outputs": [],
   "source": [
    "def get_chromedriver(use_proxy=False, user_agent=None):\n",
    "    #path = os.path.dirname(os.path.abspath(__file__))\n",
    "    os.environ[\"DBUS_SESSION_BUS_ADDRESS\"] = '/dev/null'\n",
    "    chrome_options = webdriver.ChromeOptions()\n",
    "    chrome_options.add_experimental_option(\"prefs\", prefs)\n",
    "    chrome_options.add_argument(\"--start-maximized\")\n",
    "    chrome_options.add_argument(\"--disable-infobars\")\n",
    "    if use_proxy:\n",
    "        pluginfile = 'proxy_auth_plugin.zip'\n",
    "\n",
    "        with zipfile.ZipFile(pluginfile, 'w') as zp:\n",
    "            zp.writestr(\"manifest.json\", manifest_json)\n",
    "            zp.writestr(\"background.js\", background_js)\n",
    "#        chrome_options.add_extension(pluginfile)\n",
    "    if user_agent:\n",
    "        chrome_options.add_argument('--user-agent=%s' % user_agent)\n",
    "    # driver = webdriver.Chrome(chrome_options=chrome_options)\n",
    "    ch_driver_path=r\"/Users/saanvi/Development/Upwork/chromedriver\"\n",
    "    #driver = webdriver.Chrome('/home/centos/chromedriver', options=chrome_options)\n",
    "    driver = webdriver.Chrome(ch_driver_path, options=chrome_options)\n",
    "    return driver"
   ]
  },
  {
   "cell_type": "code",
   "execution_count": 31,
   "metadata": {},
   "outputs": [],
   "source": [
    "def get_chromedriver(use_proxy=False, user_agent=None):\n",
    "    #path = os.path.dirname(os.path.abspath(__file__))\n",
    "    os.environ[\"DBUS_SESSION_BUS_ADDRESS\"] = '/dev/null'\n",
    "    chrome_options = webdriver.ChromeOptions()\n",
    "    chrome_options.add_experimental_option(\"prefs\", prefs)\n",
    "    chrome_options.add_argument(\"--start-maximized\")\n",
    "    chrome_options.add_argument(\"--disable-infobars\")\n",
    "    if use_proxy:\n",
    "        pluginfile = 'proxy_auth_plugin.zip'\n",
    "\n",
    "        with zipfile.ZipFile(pluginfile, 'w') as zp:\n",
    "            zp.writestr(\"manifest.json\", manifest_json)\n",
    "            zp.writestr(\"background.js\", background_js)\n",
    "#        chrome_options.add_extension(pluginfile)\n",
    "    if user_agent:\n",
    "        chrome_options.add_argument('--user-agent=%s' % user_agent)\n",
    "    # driver = webdriver.Chrome(chrome_options=chrome_options)\n",
    "    ch_driver_path=r\"/Users/saanvi/Development/Upwork/chromedriver\"\n",
    "    #driver = webdriver.Chrome('/home/centos/chromedriver', options=chrome_options)\n",
    "    driver = webdriver.Chrome(ch_driver_path, options=chrome_options)\n",
    "    return driver"
   ]
  },
  {
   "cell_type": "code",
   "execution_count": 45,
   "metadata": {},
   "outputs": [],
   "source": [
    "driver = get_chromedriver(use_proxy=False)\n",
    "driver.set_page_load_timeout(30)\n",
    "driver.set_script_timeout(15)\n",
    "link='https://www.5miles.com/ca/dallas_tx/cars-trucks_14#/p1'\n",
    "driver.get(link)\n",
    "driver.find_element_by_xpath('//*[@id=\"homeLayout\"]').click()\n",
    "\n",
    "driver.find_element_by_xpath('//*[@id=\"cookie-remind\"]/div/div/div[1]/button').click()"
   ]
  },
  {
   "cell_type": "code",
   "execution_count": 17,
   "metadata": {},
   "outputs": [],
   "source": [
    "source = driver.execute_script(\"return document.body.innerHTML\")"
   ]
  },
  {
   "cell_type": "code",
   "execution_count": 46,
   "metadata": {},
   "outputs": [],
   "source": [
    "#print(source)"
   ]
  },
  {
   "cell_type": "code",
   "execution_count": 43,
   "metadata": {},
   "outputs": [],
   "source": [
    "driver.find_element_by_xpath('//*[@id=\"cookie-remind\"]/div/div/div[1]/button').click()"
   ]
  },
  {
   "cell_type": "code",
   "execution_count": 44,
   "metadata": {},
   "outputs": [],
   "source": [
    "driver.close()"
   ]
  }
 ],
 "metadata": {
  "kernelspec": {
   "display_name": "Python 3",
   "language": "python",
   "name": "python3"
  },
  "language_info": {
   "codemirror_mode": {
    "name": "ipython",
    "version": 3
   },
   "file_extension": ".py",
   "mimetype": "text/x-python",
   "name": "python",
   "nbconvert_exporter": "python",
   "pygments_lexer": "ipython3",
   "version": "3.8.3"
  }
 },
 "nbformat": 4,
 "nbformat_minor": 4
}
